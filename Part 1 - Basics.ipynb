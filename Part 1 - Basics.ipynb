{
 "cells": [
  {
   "cell_type": "code",
   "execution_count": 1,
   "metadata": {},
   "outputs": [],
   "source": [
    "# kütüphane alımı\n",
    "import numpy"
   ]
  },
  {
   "cell_type": "code",
   "execution_count": 2,
   "metadata": {},
   "outputs": [
    {
     "data": {
      "text/plain": [
       "int"
      ]
     },
     "execution_count": 2,
     "metadata": {},
     "output_type": "execute_result"
    }
   ],
   "source": [
    "# değişken tanımı\n",
    "a = 5\n",
    "b = a+3\n",
    "# değişkenlerin üzerine yazmak mümkün\n",
    "a = 121\n",
    "type(a)"
   ]
  },
  {
   "cell_type": "code",
   "execution_count": 3,
   "metadata": {},
   "outputs": [
    {
     "data": {
      "text/plain": [
       "float"
      ]
     },
     "execution_count": 3,
     "metadata": {},
     "output_type": "execute_result"
    }
   ],
   "source": [
    "type(a+3.)"
   ]
  },
  {
   "cell_type": "code",
   "execution_count": 4,
   "metadata": {},
   "outputs": [],
   "source": [
    "istenirse = \"yazı yazmak da mümkün. Türkçe karakter destekleniyor\""
   ]
  },
  {
   "cell_type": "code",
   "execution_count": 6,
   "metadata": {
    "scrolled": true
   },
   "outputs": [
    {
     "name": "stdout",
     "output_type": "stream",
     "text": [
      "a 1'dir\n",
      "bu işi daha önce 0 kere yaptık\n",
      "bu işi daha önce 1 kere yaptık\n",
      "bu işi daha önce 2 kere yaptık\n",
      "bu işi daha önce 3 kere yaptık\n",
      "bu işi daha önce 4 kere yaptık\n",
      "bu işi daha önce 5 kere yaptık\n",
      "bu işi daha önce 6 kere yaptık\n",
      "bu işi daha önce 7 kere yaptık\n",
      "bu işi daha önce 8 kere yaptık\n",
      "bu işi daha önce 9 kere yaptık\n",
      "False 99\n"
     ]
    }
   ],
   "source": [
    "# koşullar\n",
    "# ve buna bağlı olarak, bool değerler\n",
    "a = True\n",
    "# b = False\n",
    "# sonucu bool olan kimi işlemler var:\n",
    "a and b\n",
    "a or b\n",
    "not a\n",
    "a == 5\n",
    "a == True # a ile aynı şey: bu a True ise True döner... yani a\n",
    "type(a)\n",
    "\n",
    "if(a == 1):\n",
    "    print(\"a 1'dir\")\n",
    "elif(a==2):\n",
    "    print(\"a 1 değildir, ve a 2'dir\")\n",
    "else:\n",
    "    print(\"a 1 değildir, ve 2 değildir\")\n",
    "    \n",
    "# en klasik döngü\n",
    "# 0'dan 9'a kadar (yani toplamda 10 kere) yapar.\n",
    "# gerekirse kaçıncı olduğunu i ile görebiliriz.\n",
    "for i in range(10):\n",
    "    print(\"bu işi daha önce {} kere yaptık\".format(i))\n",
    "\n",
    "# koşulu değişken döngüler de mümkün\n",
    "cond = True\n",
    "i = 0\n",
    "while (cond):\n",
    "    i += 1\n",
    "    cond = (i<99)\n",
    "print(cond,i)"
   ]
  },
  {
   "cell_type": "code",
   "execution_count": null,
   "metadata": {},
   "outputs": [],
   "source": [
    "# VERİ YAPILARI\n",
    "# list, dict, set, tuple"
   ]
  },
  {
   "cell_type": "markdown",
   "metadata": {},
   "source": []
  }
 ],
 "metadata": {
  "kernelspec": {
   "display_name": "Python 3",
   "language": "python",
   "name": "python3"
  },
  "language_info": {
   "codemirror_mode": {
    "name": "ipython",
    "version": 3
   },
   "file_extension": ".py",
   "mimetype": "text/x-python",
   "name": "python",
   "nbconvert_exporter": "python",
   "pygments_lexer": "ipython3",
   "version": "3.8.0"
  }
 },
 "nbformat": 4,
 "nbformat_minor": 2
}
